{
 "cells": [
  {
   "cell_type": "markdown",
   "metadata": {},
   "source": [
    "# Setting Up the Environment\n",
    "This section installs and imports the required libraries and packages for running the Delft3D-FLOW and Delft3D-FM simulations.\n",
    "If you are running this notebook for the first time, ensure the necessary packages are installed."
   ]
  },
  {
   "cell_type": "code",
   "execution_count": null,
   "metadata": {},
   "outputs": [],
   "source": [
    "# Install required packages (run this once if packages are missing)\n",
    "!pip install numpy matplotlib xarray datetime tqdm pandas"
   ]
  },
  {
   "cell_type": "code",
   "execution_count": null,
   "metadata": {},
   "outputs": [],
   "source": [
    "# Install additional tools for Delft3D (requires internet connection)\n",
    "!pip install git+https://github.com/openearth/dfm_tools.git"
   ]
  },
  {
   "cell_type": "markdown",
   "metadata": {},
   "source": [
    "# Importing Libraries\n",
    "This section imports all the necessary libraries to perform data handling, visualization, and Delft3D-specific operations."
   ]
  },
  {
   "cell_type": "code",
   "execution_count": null,
   "metadata": {},
   "outputs": [],
   "source": [
    "import sys\n",
    "import numpy as np\n",
    "import pandas as pd\n",
    "import openearthtools.io.delft3d as d3d\n",
    "import xarray as xr\n",
    "import datetime\n",
    "from tqdm.notebook import tnrange\n",
    "import warnings\n",
    "\n",
    "# Suppress warnings for a cleaner output\n",
    "warnings.filterwarnings(\"ignore\")"
   ]
  },
  {
   "cell_type": "markdown",
   "metadata": {},
   "source": [
    "# Reading and Processing Delft3D-FLOW Files\n",
    "This section reads the required input files for Delft3D-FLOW simulations, such as grid, depth, layer, and boundary files.\n",
    "It calculates boundary positions and sets up variables for further processing."
   ]
  },
  {
   "cell_type": "code",
   "execution_count": null,
   "metadata": {},
   "outputs": [],
   "source": [
    "# Specify the directory containing Delft3D-FLOW input files\n",
    "path = 'Delft3D-FLOW Folder/'\n",
    "\n",
    "# Load the grid, depth, and boundary information\n",
    "G = d3d.Grid.fromfile(path + '*.grd')\n",
    "D = pd.DataFrame(d3d.Dep.read(path + '*.dep', G.shape).val)\n",
    "lyr = pd.read_csv(path + '*.lyr', sep='\\s+', header=None).T\n",
    "lyr.columns = ['depth']\n",
    "\n",
    "# Read boundary definitions\n",
    "df = pd.read_csv(path + '*.bnd', sep='\\s+', header=None)\n",
    "df.columns = ['name_boundary', 'type_boundary', 'type_data', 'A_x', 'A_y', 'B_x', 'B_y', 'alpha', 'name_A', 'name_B']\n",
    "\n",
    "# Initialize lists for boundary coordinates\n",
    "x_A, y_A, x_B, y_B = [], [], [], []\n",
    "\n",
    "# Calculate boundary coordinates\n",
    "for k in range(len(df)):\n",
    "    if 'East' in df['name_boundary'].loc[k]:\n",
    "        ind_y_A, ind_x_A = df['A_y'].loc[k], df['A_x'].loc[k] - 2\n",
    "        ind_y_B, ind_x_B = df['B_y'].loc[k], df['B_x'].loc[k] - 2\n",
    "    elif 'North' in df['name_boundary'].loc[k]:\n",
    "        ind_y_A, ind_x_A = df['A_y'].loc[k] - 2, df['A_x'].loc[k]\n",
    "        ind_y_B, ind_x_B = df['B_y'].loc[k] - 2, df['B_x'].loc[k]\n",
    "    else:\n",
    "        ind_y_A, ind_x_A = df['A_y'].loc[k], df['A_x'].loc[k]\n",
    "        ind_y_B, ind_x_B = df['B_y'].loc[k], df['B_x'].loc[k]\n",
    "\n",
    "    x_A.append(G.__dict__['x'][ind_y_A][ind_x_A])\n",
    "    y_A.append(G.__dict__['y'][ind_y_A][ind_x_A])\n",
    "    x_B.append(G.__dict__['x'][ind_y_B][ind_x_B - 1])\n",
    "    y_B.append(G.__dict__['y'][ind_y_B][ind_x_B - 1])\n",
    "\n",
    "df['x_A'], df['y_A'], df['x_B'], df['y_B'] = x_A, y_A, x_B, y_B"
   ]
  },
  {
   "cell_type": "markdown",
   "metadata": {},
   "source": [
    "# Processing NETCDF Files\n",
    "This section loads the NETCDF files, selects the required time slice, and prepares the data for salinity and temperature calculations."
   ]
  },
  {
   "cell_type": "code",
   "execution_count": null,
   "metadata": {},
   "outputs": [],
   "source": [
    "# Load the NETCDF file\n",
    "nc_fileID = input('Input netcdf file name: ')\n",
    "ds = xr.open_dataset(nc_fileID)\n",
    "\n",
    "# Filter dataset for the desired time range\n",
    "ds = ds.sel({'time': slice('2019-01-01T00:00:00.000000000', '2021-01-01T00:00:00.000000000')})"
   ]
  },
  {
   "cell_type": "markdown",
   "metadata": {},
   "source": [
    "# Output File Generation\n",
    "This section creates output files for Delft3D boundary conditions using salinity and temperature data."
   ]
  },
  {
   "cell_type": "code",
   "execution_count": null,
   "metadata": {},
   "outputs": [],
   "source": [
    "# Specify output format\n",
    "fmt = '.bcc'\n",
    "outfile_name = 'name_of_file' + fmt\n",
    "outfile = open(outfile_name, 'w')\n",
    "\n",
    "# Process boundaries and write output\n",
    "for j in tnrange(len(df), desc='Processing Boundaries'):\n",
    "    depths = (lyr * D.iloc[df['A_y'].loc[0], df['A_x'].loc[0]] / 200).cumsum(axis=0)\n",
    "    \n",
    "    # Write metadata and parameters to file\n",
    "    outfile.write('table-name           ' + r\"'Boundary Section : \" + str(j + 1) + r\"'\\n\")\n",
    "    outfile.write('contents             ' + r\"'3d-profile'\\n\")\n",
    "    ...\n",
    "\n",
    "print('File generation completed.')"
   ]
  }
 ]
}
